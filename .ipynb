{
 "cells": [
  {
   "cell_type": "code",
   "execution_count": 12,
   "metadata": {},
   "outputs": [
    {
     "name": "stdout",
     "output_type": "stream",
     "text": [
      "['that', 'that', 'that', 'that', 'that', 'that', 'that', 'that', 'that', 'what', 'that', 'that', 'that', 'great', 'that', 'that', 'that', 'that', 'that', 'that', 'that', 'that', 'flat', 'what', 'that', 'that', 'that', 'that', 'that', 'that', 'What', 'What', 'what', 'that', 'great', 'that', 'that', 'that', 'that', 'that', 'that', 'that', 'that', 'what', 'that', 'that', 'Democrat', 'that', 'that', 'that', 'that', 'that', 'great', 'that', 'that', 'that', 'heat', 'that', 'that', 'that', 'coat', 'that', 'that', 'that', 'what', 'that', 'meat', 'meat', 'that', 'that', 'that', 'that', 'that', 'that', 'that', 'somewhat', 'that', 'that', 'that', 'that', 'that', 'that', 'heat', 'that', 'that', 'that', 'that', 'What', 'that', 'somewhat', 'what', 'that', 'that', 'that', 'that', 'that', 'that', 'that', 'that', 'that', 'that', 'that', 'that', 'that', 'that', 'that', 'that', 'that', 'that', 'that', 'what', 'that', 'that', 'that', 'great', 'that', 'that', 'what', 'that', 'what', 'that', 'what', 'that', 'that', 'that', 'that', 'that', 'that', 'that', 'that', 'that', 'that', 'that', 'that', 'what', 'that', 'heat', 'that', 'that', 'great', 'that', 'that', 'What', 'that', 'that', 'Great', 'that', 'that', 'that', 'that', 'heat', 'that', 'What', 'that', 'that', 'that', 'that', 'that', 'that', 'somewhat', 'great', 'that', 'that', 'that', 'that', 'that', 'that', 'what', 'That', 'that', 'that', 'that', 'that', 'that', 'that', 'that', 'that', 'that', 'that', 'that', 'that', 'that', 'what', 'that', 'that', 'that', 'what', 'that', 'that', 'that', 'that', 'defeat', 'that', 'that', 'that', 'that', 'that', 'somewhat', 'that', 'what', 'that', 'that', 'that', 'that', 'that', 'that', 'that', 'great', 'that', 'that', 'that', 'that', 'that', 'that', 'that', 'that', 'that', 'that', 'that', 'that', 'that', 'that', 'that', 'that', 'that', 'petticoat', 'that', 'that', 'that', 'What', 'that', 'that', 'that', 'that', 'that', 'what', 'What', 'what', 'That', 'that', 'that', 'that', 'that', 'what', 'that', 'that', 'that', 'that', 'that', 'what', 'what', 'that', 'that', 'great', 'that', 'that', 'what', 'that', 'that', 'that', 'that', 'that', 'that', 'that', 'that', 'that', 'that', 'that', 'that', 'that', 'that', 'that', 'that', 'that', 'that', 'that', 'that', 'that', 'that', 'that', 'that', 'great', 'what', 'that', 'that', 'that', 'that', 'that', 'great', 'that', 'that', 'that', 'that', 'that', 'that', 'that', 'great', 'that', 'what', 'that', 'that', 'great', 'What', 'that', 'great', 'that', 'what', 'that', 'What', 'that', 'that', 'that', 'that', 'that', 'that', 'That', 'That', 'that', 'that', 'that', 'that', 'that', 'that', 'that', 'that', 'that', 'that', 'that', 'that', 'that', 'What', 'that', 'that', 'that', 'That', 'what', 'that', 'what', 'that', 'that', 'seat', 'that', 'that', 'treat', 'great', 'what', 'that', 'that', 'that', 'that', 'that', 'that', 'That', 'that', 'that', 'that', 'that', 'that', 'that', 'that', 'that', 'that', 'that', 'that', 'that', 'that', 'that', 'that', 'that', 'that', 'that', 'that', 'that', 'that', 'great', 'that', 'that', 'that', 'that', 'that', 'that', 'that', 'What', 'what', 'that', 'that', 'that', 'that', 'that', 'that', 'that', 'that', 'that', 'what', 'that', 'what', 'that', 'that', 'that', 'that', 'that', 'that', 'that', 'that', 'that', 'that', 'that', 'that', 'that', 'that', 'that', 'that', 'that', 'that', 'that', 'that', 'that', 'that', 'that', 'that', 'that', 'that', 'that', 'somewhat', 'that', 'that', 'that', 'What', 'that', 'that', 'that', 'that', 'What', 'That', 'what', 'somewhat', 'that', 'that', 'that', 'that', 'that', 'what', 'that', 'that', 'that', 'that', 'that', 'that', 'great', 'that', 'that', 'that', 'that', 'that', 'that', 'that', 'that', 'that', 'great', 'what', 'that', 'that', 'that', 'that', 'that', 'that', 'that', 'that', 'that', 'that', 'that', 'that', 'that', 'that', 'that', 'that', 'what', 'that', 'what', 'that', 'that', 'that', 'that', 'that', 'that', 'that', 'that', 'what', 'that', 'that', 'what', 'what', 'that', 'that', 'that', 'that', 'that', 'that', 'that', 'that', 'that', 'what', 'that', 'that', 'what', 'that', 'that', 'that', 'brat', 'that', 'great', 'that', 'that', 'that', 'that', 'that', 'that', 'that', 'that', 'that', 'that', 'that', 'that', 'that', 'that', 'what', 'that', 'that', 'that', 'that', 'that', 'that', 'that', 'great', 'seat', 'that', 'that', 'that', 'that', 'That', 'that', 'that', 'great', 'that', 'that', 'that', 'great', 'that', 'that', 'that', 'great', 'that', 'great', 'What', 'What', 'that', 'what', 'that', 'that', 'that', 'What', 'what', 'that', 'that', 'what', 'that', 'great', 'that', 'great', 'that', 'that', 'that', 'what', 'that', 'what', 'what', 'that', 'that', 'what', 'that', 'what', 'that', 'that', 'that', 'that', 'that', 'what', 'that', 'that', 'that', 'what', 'What', 'that', 'that', 'that', 'that', 'that', 'that', 'that', 'that', 'that', 'that', 'that', 'that', 'that', 'that', 'that', 'that', 'that', 'that', 'that', 'that', 'great', 'that', 'that', 'that', 'that', 'that', 'what', 'What', 'great', 'that', 'that', 'what', 'great', 'that', 'that', 'what', 'that', 'that', 'that', 'that', 'that', 'what', 'that', 'what', 'that', 'that', 'what', 'that', 'that', 'that', 'that', 'that', 'that', 'that', 'that', 'great', 'that', 'that', 'that', 'that', 'that', 'what', 'that', 'that', 'that', 'that', 'that', 'that', 'that', 'that', 'that', 'That', 'that', 'that', 'That', 'that', 'that', 'that', 'that', 'what', 'that', 'somewhat', 'that', 'that', 'that', 'that', 'that', 'flat', 'that', 'that', 'that', 'What', 'that', 'what', 'that', 'that', 'that', 'what', 'what', 'that', 'somewhat', 'that', 'that', 'that', 'that', 'that', 'that', 'that', 'that', 'what', 'what', 'that', 'what', 'that', 'that', 'great', 'that', 'what', 'that', 'that', 'that', 'that', 'that', 'that', 'great', 'that', 'that', 'that', 'that', 'that', 'that', 'that', 'that', 'that', 'that', 'that', 'what', 'what', 'that', 'throat', 'that', 'that', 'that', 'what', 'what', 'that', 'cheat', 'that', 'that', 'that', 'that', 'that', 'that', 'that', 'that', 'that', 'throat', 'that', 'that', 'that', 'what', 'great', 'that', 'that', 'that', 'that', 'that', 'that', 'that', 'that', 'that', 'great', 'great', 'What', 'that', 'what', 'What', 'that', 'what', 'great', 'that', 'seat', 'that', 'great', 'that', 'that', 'that', 'that', 'that', 'that', 'that', 'that', 'that', 'what', 'that', 'that', 'that', 'that', 'that', 'that', 'great', 'that', 'that', 'that', 'that', 'that', 'that', 'that', 'what', 'that', 'that', 'that', 'that', 'great', 'that', 'that', 'what', 'that', 'that', 'that', 'that', 'what', 'that', 'that', 'that', 'that', 'that', 'that', 'that', 'that', 'that', 'that', 'that', 'that', 'that', 'that', 'that', 'that', 'that', 'that', 'that', 'that', 'that', 'that', 'great', 'that', 'that', 'that', 'that', 'that', 'what', 'that', 'that', 'that', 'that', 'that', 'that', 'that', 'that', 'what', 'that', 'that', 'that', 'that', 'that', 'what', 'that', 'what', 'that', 'What', 'that', 'that', 'that', 'what', 'that', 'that', 'that', 'What', 'What', 'that', 'that', 'What', 'That', 'what', 'that', 'that', 'that', 'what', 'what', 'what', 'that', 'what', 'What', 'that', 'great', 'that', 'that', 'that', 'that', 'that', 'that', 'that', 'that', 'that', 'that', 'what', 'that', 'that', 'that', 'that', 'that', 'that', 'What', 'that', 'that', 'that', 'that', 'great', 'that', 'that', 'what', 'what', 'great', 'that', 'that', 'what', 'that', 'What', 'what', 'that', 'that', 'what', 'that', 'great', 'that', 'that', 'that', 'that', 'What', 'What', 'what', 'that', 'What', 'that', 'that', 'what', 'that', 'that', 'that', 'that', 'that', 'that', 'that', 'that', 'great', 'that', 'that', 'that', 'what', 'that', 'what', 'that', 'that', 'that', 'that', 'that', 'that', 'great', 'that', 'that', 'that', 'What', 'that', 'that', 'that', 'that', 'that', 'that', 'that', 'that', 'that', 'that', 'that', 'that', 'that', 'that', 'what', 'that', 'that', 'What', 'what', 'that', 'What', 'that', 'that', 'what', 'what', 'what', 'seat', 'that', 'what', 'cheat', 'that', 'what', 'what', 'What', 'What', 'what', 'that', 'that', 'that', 'that', 'what', 'That', 'that', 'that', 'that', 'that', 'gloat', 'what', 'That', 'What', 'that', 'that', 'that', 'that', 'that', 'What', 'that', 'that', 'What', 'what', 'what', 'what', 'that', 'what', 'what', 'that', 'that', 'that', 'that', 'what', 'that', 'that', 'that', 'that', 'what', 'somewhat', 'that', 'that', 'that', 'that', 'that', 'that', 'that', 'that', 'that', 'that', 'that', 'that', 'that', 'that', 'that', 'that', 'what', 'that', 'that', 'that', 'somewhat', 'that', 'great', 'that', 'that', 'what', 'that', 'what', 'that', 'that', 'that', 'that', 'that', 'what', 'that', 'that', 'somewhat', 'that', 'that', 'that', 'that', 'that', 'that', 'that', 'what', 'that', 'that', 'that', 'that', 'that', 'that', 'that', 'that', 'that', 'That', 'entreat', 'what', 'that', 'that', 'that', 'that', 'what', 'that', 'great', 'that', 'that', 'that', 'that', 'that', 'that', 'that', 'that', 'that', 'what', 'that', 'what', 'that', 'that', 'that', 'that', 'that', 'that', 'that', 'that', 'that', 'that', 'great', 'What', 'that', 'that', 'that', 'that', 'that', 'that', 'that', 'that', 'What', 'that', 'that', 'that', 'what', 'that', 'that', 'that', 'That', 'that', 'that', 'that', 'that', 'that', 'that', 'what', 'that', 'that', 'great', 'that', 'that', 'that', 'that', 'that', 'that', 'that', 'that', 'what', 'that', 'that', 'that', 'that', 'that', 'what', 'that', 'What', 'great', 'What', 'that', 'that', 'that', 'great', 'great', 'what', 'that', 'great', 'that', 'what', 'that', 'that', 'what', 'that', 'that', 'that', 'that', 'that', 'What', 'What', 'that', 'that', 'that', 'what', 'great', 'great', 'that', 'that', 'that', 'that', 'what', 'great', 'that', 'that', 'that', 'that', 'that', 'that', 'that', 'what', 'that', 'that', 'that', 'that', 'that', 'that', 'that', 'that', 'what', 'that', 'What', 'What', 'that', 'that', 'that', 'what', 'great', 'that', 'that', 'what', 'That', 'that', 'what', 'that', 'that', 'That', 'that', 'what', 'that', 'that', 'What', 'that', 'What', 'that', 'that', 'that', 'that', 'that', 'What', 'great', 'that', 'that', 'that', 'that', 'that', 'that', 'that', 'that', 'that', 'that', 'that', 'that', 'what', 'that', 'that', 'what', 'that', 'that', 'What', 'that', 'what', 'that', 'that', 'that', 'what', 'that', 'that', 'that', 'that', 'that', 'that', 'that', 'that', 'that', 'great', 'that', 'that', 'that', 'that', 'that', 'that', 'that', 'that', 'that', 'what', 'that', 'what', 'that', 'what', 'what', 'what', 'that', 'that', 'what', 'great', 'that', 'that', 'that', 'that', 'that', 'that', 'what', 'that', 'what', 'that', 'that', 'that', 'great', 'that', 'what', 'that', 'that', 'heat', 'That', 'that', 'what', 'that', 'that', 'that', 'that', 'that', 'that', 'that', 'that', 'that', 'that', 'that', 'that', 'that', 'that', 'that', 'that', 'that', 'that', 'that', 'that', 'that', 'that', 'that', 'that', 'that', 'that', 'that', 'what', 'that', 'that', 'that', 'that', 'that', 'that', 'that', 'that', 'that', 'format', 'what', 'that', 'format', 'format', 'format', 'that', 'that', 'that', 'that', 'that', 'that', 'that', 'that']\n"
     ]
    }
   ],
   "source": [
    "import re\n",
    "\n",
    "hammon = open(\"Scarletletter.txt\", \"r\")\n",
    "sendo = hammon.read()\n",
    "def finder(word):\n",
    "    \n",
    "    if type(word) != str:\n",
    "        raise TypeError(\"this is not a string\")\n",
    "   \n",
    "    matches = re.findall(r\"\\w*at\\b\", sendo)\n",
    "    \n",
    "    findings = []\n",
    "    \n",
    "    for word in matches:\n",
    "        \n",
    "        if len(word) > 3:\n",
    "            findings.append(word)\n",
    "    print findings\n",
    "finder(sendo)        "
   ]
  },
  {
   "cell_type": "code",
   "execution_count": null,
   "metadata": {},
   "outputs": [],
   "source": []
  },
  {
   "cell_type": "code",
   "execution_count": null,
   "metadata": {},
   "outputs": [],
   "source": []
  }
 ],
 "metadata": {
  "kernelspec": {
   "display_name": "Python 2",
   "language": "python",
   "name": "python2"
  },
  "language_info": {
   "codemirror_mode": {
    "name": "ipython",
    "version": 2
   },
   "file_extension": ".py",
   "mimetype": "text/x-python",
   "name": "python",
   "nbconvert_exporter": "python",
   "pygments_lexer": "ipython2",
   "version": "2.7.15"
  }
 },
 "nbformat": 4,
 "nbformat_minor": 2
}
